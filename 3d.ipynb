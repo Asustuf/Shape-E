{
 "cells": [
  {
   "cell_type": "code",
   "execution_count": 2,
   "metadata": {
    "colab": {
     "base_uri": "https://localhost:8080/"
    },
    "executionInfo": {
     "elapsed": 7,
     "status": "ok",
     "timestamp": 1690050331033,
     "user": {
      "displayName": "Shivanand Algudkar",
      "userId": "07170867697649205027"
     },
     "user_tz": -330
    },
    "id": "i0c4dB27gQul",
    "outputId": "82a8cade-9bb7-400b-8535-0fcef25e1c51"
   },
   "outputs": [
    {
     "name": "stdout",
     "output_type": "stream",
     "text": [
      "Requirement already satisfied: ipykernel in c:\\users\\ashiv\\anaconda3\\lib\\site-packages (6.19.2)\n",
      "Requirement already satisfied: ipython>=7.23.1 in c:\\users\\ashiv\\anaconda3\\lib\\site-packages (from ipykernel) (8.10.0)\n",
      "Requirement already satisfied: comm>=0.1.1 in c:\\users\\ashiv\\anaconda3\\lib\\site-packages (from ipykernel) (0.1.2)\n",
      "Requirement already satisfied: psutil in c:\\users\\ashiv\\anaconda3\\lib\\site-packages (from ipykernel) (5.9.0)\n",
      "Requirement already satisfied: pyzmq>=17 in c:\\users\\ashiv\\anaconda3\\lib\\site-packages (from ipykernel) (23.2.0)\n",
      "Requirement already satisfied: packaging in c:\\users\\ashiv\\anaconda3\\lib\\site-packages (from ipykernel) (23.0)\n",
      "Requirement already satisfied: traitlets>=5.4.0 in c:\\users\\ashiv\\anaconda3\\lib\\site-packages (from ipykernel) (5.7.1)\n",
      "Requirement already satisfied: debugpy>=1.0 in c:\\users\\ashiv\\anaconda3\\lib\\site-packages (from ipykernel) (1.5.1)\n",
      "Requirement already satisfied: nest-asyncio in c:\\users\\ashiv\\anaconda3\\lib\\site-packages (from ipykernel) (1.5.6)\n",
      "Requirement already satisfied: jupyter-client>=6.1.12 in c:\\users\\ashiv\\anaconda3\\lib\\site-packages (from ipykernel) (7.3.4)\n",
      "Requirement already satisfied: matplotlib-inline>=0.1 in c:\\users\\ashiv\\anaconda3\\lib\\site-packages (from ipykernel) (0.1.6)\n",
      "Requirement already satisfied: tornado>=6.1 in c:\\users\\ashiv\\anaconda3\\lib\\site-packages (from ipykernel) (6.1)\n",
      "Requirement already satisfied: decorator in c:\\users\\ashiv\\anaconda3\\lib\\site-packages (from ipython>=7.23.1->ipykernel) (5.1.1)\n",
      "Requirement already satisfied: pickleshare in c:\\users\\ashiv\\anaconda3\\lib\\site-packages (from ipython>=7.23.1->ipykernel) (0.7.5)\n",
      "Requirement already satisfied: pygments>=2.4.0 in c:\\users\\ashiv\\anaconda3\\lib\\site-packages (from ipython>=7.23.1->ipykernel) (2.11.2)\n",
      "Requirement already satisfied: stack-data in c:\\users\\ashiv\\anaconda3\\lib\\site-packages (from ipython>=7.23.1->ipykernel) (0.2.0)\n",
      "Requirement already satisfied: backcall in c:\\users\\ashiv\\anaconda3\\lib\\site-packages (from ipython>=7.23.1->ipykernel) (0.2.0)\n",
      "Requirement already satisfied: colorama in c:\\users\\ashiv\\anaconda3\\lib\\site-packages (from ipython>=7.23.1->ipykernel) (0.4.6)\n",
      "Requirement already satisfied: jedi>=0.16 in c:\\users\\ashiv\\anaconda3\\lib\\site-packages (from ipython>=7.23.1->ipykernel) (0.18.1)\n",
      "Requirement already satisfied: prompt-toolkit<3.1.0,>=3.0.30 in c:\\users\\ashiv\\anaconda3\\lib\\site-packages (from ipython>=7.23.1->ipykernel) (3.0.36)\n",
      "Requirement already satisfied: python-dateutil>=2.8.2 in c:\\users\\ashiv\\anaconda3\\lib\\site-packages (from jupyter-client>=6.1.12->ipykernel) (2.8.2)\n",
      "Requirement already satisfied: entrypoints in c:\\users\\ashiv\\anaconda3\\lib\\site-packages (from jupyter-client>=6.1.12->ipykernel) (0.4)\n",
      "Requirement already satisfied: jupyter-core>=4.9.2 in c:\\users\\ashiv\\anaconda3\\lib\\site-packages (from jupyter-client>=6.1.12->ipykernel) (5.2.0)\n",
      "Requirement already satisfied: parso<0.9.0,>=0.8.0 in c:\\users\\ashiv\\anaconda3\\lib\\site-packages (from jedi>=0.16->ipython>=7.23.1->ipykernel) (0.8.3)\n",
      "Requirement already satisfied: platformdirs>=2.5 in c:\\users\\ashiv\\anaconda3\\lib\\site-packages (from jupyter-core>=4.9.2->jupyter-client>=6.1.12->ipykernel) (2.5.2)\n",
      "Requirement already satisfied: pywin32>=1.0 in c:\\users\\ashiv\\anaconda3\\lib\\site-packages (from jupyter-core>=4.9.2->jupyter-client>=6.1.12->ipykernel) (305.1)\n",
      "Requirement already satisfied: wcwidth in c:\\users\\ashiv\\anaconda3\\lib\\site-packages (from prompt-toolkit<3.1.0,>=3.0.30->ipython>=7.23.1->ipykernel) (0.2.5)\n",
      "Requirement already satisfied: six>=1.5 in c:\\users\\ashiv\\anaconda3\\lib\\site-packages (from python-dateutil>=2.8.2->jupyter-client>=6.1.12->ipykernel) (1.16.0)\n",
      "Requirement already satisfied: executing in c:\\users\\ashiv\\anaconda3\\lib\\site-packages (from stack-data->ipython>=7.23.1->ipykernel) (0.8.3)\n",
      "Requirement already satisfied: asttokens in c:\\users\\ashiv\\anaconda3\\lib\\site-packages (from stack-data->ipython>=7.23.1->ipykernel) (2.0.5)\n",
      "Requirement already satisfied: pure-eval in c:\\users\\ashiv\\anaconda3\\lib\\site-packages (from stack-data->ipython>=7.23.1->ipykernel) (0.2.2)\n"
     ]
    }
   ],
   "source": [
    "!pip install ipykernel"
   ]
  },
  {
   "cell_type": "code",
   "execution_count": 4,
   "metadata": {},
   "outputs": [
    {
     "name": "stdout",
     "output_type": "stream",
     "text": [
      "Installed kernelspec GPU_ENV_NAME in C:\\Users\\ashiv\\AppData\\Roaming\\jupyter\\kernels\\gpu_env_name\n"
     ]
    }
   ],
   "source": [
    "!python -m ipykernel install --user --name=GPU_ENV_NAME"
   ]
  },
  {
   "cell_type": "code",
   "execution_count": 5,
   "metadata": {},
   "outputs": [
    {
     "name": "stdout",
     "output_type": "stream",
     "text": [
      "TensorFlow version: 2.12.0\n",
      "WARNING:tensorflow:From C:\\Users\\ashiv\\AppData\\Local\\Temp\\ipykernel_34108\\2117654923.py:3: is_gpu_available (from tensorflow.python.framework.test_util) is deprecated and will be removed in a future version.\n",
      "Instructions for updating:\n",
      "Use `tf.config.list_physical_devices('GPU')` instead.\n",
      "GPU available: False\n"
     ]
    }
   ],
   "source": [
    "import tensorflow as tf\n",
    "print(\"TensorFlow version:\", tf.__version__)\n",
    "print(\"GPU available:\", tf.test.is_gpu_available())"
   ]
  },
  {
   "cell_type": "code",
   "execution_count": null,
   "metadata": {},
   "outputs": [],
   "source": [
    "! nvidia-smi"
   ]
  },
  {
   "cell_type": "code",
   "execution_count": null,
   "metadata": {
    "colab": {
     "base_uri": "https://localhost:8080/"
    },
    "executionInfo": {
     "elapsed": 2073,
     "status": "ok",
     "timestamp": 1690050336973,
     "user": {
      "displayName": "Shivanand Algudkar",
      "userId": "07170867697649205027"
     },
     "user_tz": -330
    },
    "id": "4nq7Whi-gfHx",
    "outputId": "aecd6d63-54a2-42bd-8938-bf348e29145e"
   },
   "outputs": [],
   "source": [
    "!git clone https://github.com/openai/shap-e"
   ]
  },
  {
   "cell_type": "code",
   "execution_count": null,
   "metadata": {
    "colab": {
     "base_uri": "https://localhost:8080/"
    },
    "executionInfo": {
     "elapsed": 616,
     "status": "ok",
     "timestamp": 1690050340976,
     "user": {
      "displayName": "Shivanand Algudkar",
      "userId": "07170867697649205027"
     },
     "user_tz": -330
    },
    "id": "X8aQmLu_g2DE",
    "outputId": "a8dac936-b27b-4053-dc27-94e9ddc9a9b9"
   },
   "outputs": [],
   "source": [
    "%cd shap-e"
   ]
  },
  {
   "cell_type": "code",
   "execution_count": null,
   "metadata": {
    "colab": {
     "base_uri": "https://localhost:8080/"
    },
    "executionInfo": {
     "elapsed": 14055,
     "status": "ok",
     "timestamp": 1690050357014,
     "user": {
      "displayName": "Shivanand Algudkar",
      "userId": "07170867697649205027"
     },
     "user_tz": -330
    },
    "id": "IUVKf8q6g3wC",
    "outputId": "50248ec2-864a-4549-f6e5-f877de7b581f"
   },
   "outputs": [],
   "source": [
    "!pip install -e ."
   ]
  },
  {
   "cell_type": "code",
   "execution_count": null,
   "metadata": {
    "colab": {
     "base_uri": "https://localhost:8080/"
    },
    "executionInfo": {
     "elapsed": 6151,
     "status": "ok",
     "timestamp": 1690050363156,
     "user": {
      "displayName": "Shivanand Algudkar",
      "userId": "07170867697649205027"
     },
     "user_tz": -330
    },
    "id": "5bij1Qqug6Ap",
    "outputId": "e3e25cd0-6467-4bf6-cf9d-3d9699062b48"
   },
   "outputs": [],
   "source": [
    "!pip install shap-e torch torchvision flask\n"
   ]
  },
  {
   "cell_type": "code",
   "execution_count": null,
   "metadata": {
    "executionInfo": {
     "elapsed": 13636,
     "status": "ok",
     "timestamp": 1690050376788,
     "user": {
      "displayName": "Shivanand Algudkar",
      "userId": "07170867697649205027"
     },
     "user_tz": -330
    },
    "id": "i8KnYWXahBph"
   },
   "outputs": [],
   "source": [
    "import torch\n",
    "import numpy as np\n",
    "from sklearn.metrics import confusion_matrix\n",
    "import matplotlib.pyplot as plt\n",
    "import os\n",
    "import numpy as np\n",
    "from PIL import Image\n",
    "import matplotlib.pyplot as plt\n",
    "\n",
    "from shap_e.diffusion.sample import sample_latents\n",
    "from shap_e.diffusion.gaussian_diffusion import diffusion_from_config\n",
    "from shap_e.models.download import load_model, load_config\n",
    "from shap_e.util.notebooks import create_pan_cameras, decode_latent_images, gif_widget, decode_latent_mesh\n",
    "from tensorflow.keras.preprocessing.image import ImageDataGenerator\n",
    "from shap_e.util.notebooks import decode_latent_mesh\n",
    "\n"
   ]
  },
  {
   "cell_type": "code",
   "execution_count": null,
   "metadata": {
    "colab": {
     "base_uri": "https://localhost:8080/",
     "height": 98,
     "referenced_widgets": [
      "5b83b8b1a0fc4a508e5a9e97cacc11a1",
      "5c61e210882a44ac8a57db78408c8138",
      "b1cba9baa031448c90bb7077fc6be677",
      "697b8b2b902e4f449a83825b4a905769",
      "6911f04d916f46e78ca9d0b7c6d0c666",
      "c5aec8d37b6444ec9cafe1154250fd4f",
      "9dec9ea8edea40259a9dadbd62d5864c",
      "bc6c7abb72eb45f4b23bde1331c86322",
      "6fa25d27b0294de18603f9e28358be62",
      "c3f5461a931c49c5be4df5c566049d8c",
      "eb92bd7cc7144b61ad7b2840810f7287",
      "39c9af2e0bad4adb9822c8423e188834",
      "b33f9fa164144cd59c7f698579ba28f0",
      "bc56bbc4b0fa41c280374c4ea591320e",
      "520f87cd651b4f68a53bf953e69d9230",
      "b8b95c4ec6b3427fb9a924e3c0ec842c",
      "12972a7bdb564f219211c5e5ed29fc99",
      "2df81f8805a34f10bd4ca40a064bfefe",
      "7f3d00a90d7c4172ac7b048260f2662f",
      "74a6a268019b489fb7eadf248b3640b6",
      "fc3659104a7a4c0fb91d92ab0b46ac9b",
      "6cdf5fb6be284cd385ef690d18fb49c8"
     ]
    },
    "executionInfo": {
     "elapsed": 74498,
     "status": "ok",
     "timestamp": 1690050451269,
     "user": {
      "displayName": "Shivanand Algudkar",
      "userId": "07170867697649205027"
     },
     "user_tz": -330
    },
    "id": "3iIx5yA5hEpi",
    "outputId": "23522524-3263-4ca5-d4ca-0ff634605071"
   },
   "outputs": [],
   "source": [
    "device = torch.device('cuda' if torch.cuda.is_available() else 'cpu')\n",
    "\n",
    "xm = load_model('transmitter', device=device)\n",
    "model = load_model('text300M', device=device)\n",
    "diffusion = diffusion_from_config(load_config('diffusion'))"
   ]
  },
  {
   "cell_type": "code",
   "execution_count": null,
   "metadata": {
    "executionInfo": {
     "elapsed": 395,
     "status": "ok",
     "timestamp": 1690050454662,
     "user": {
      "displayName": "Shivanand Algudkar",
      "userId": "07170867697649205027"
     },
     "user_tz": -330
    },
    "id": "i6r7H9ZIsc9l"
   },
   "outputs": [],
   "source": [
    "# Set the path to your data directory\n",
    "data_path = \"C:/Users/ashiv/Downloads/shap-e/samples\""
   ]
  },
  {
   "cell_type": "code",
   "execution_count": null,
   "metadata": {
    "executionInfo": {
     "elapsed": 386,
     "status": "ok",
     "timestamp": 1690050457553,
     "user": {
      "displayName": "Shivanand Algudkar",
      "userId": "07170867697649205027"
     },
     "user_tz": -330
    },
    "id": "_c4sImkssvDV"
   },
   "outputs": [],
   "source": [
    "# Set the image dimensions and batch size\n",
    "image_width = 64\n",
    "image_height = 64\n",
    "batch_size = 32"
   ]
  },
  {
   "cell_type": "code",
   "execution_count": null,
   "metadata": {
    "executionInfo": {
     "elapsed": 360,
     "status": "ok",
     "timestamp": 1690050460312,
     "user": {
      "displayName": "Shivanand Algudkar",
      "userId": "07170867697649205027"
     },
     "user_tz": -330
    },
    "id": "1Ynvfp_As00M"
   },
   "outputs": [],
   "source": [
    "from tensorflow.keras.preprocessing.image import ImageDataGenerator\n",
    "# Create an ImageDataGenerator to preprocess the GIF images\n",
    "data_generator = ImageDataGenerator(rescale=1.0 / 255.0)"
   ]
  },
  {
   "cell_type": "code",
   "execution_count": null,
   "metadata": {
    "executionInfo": {
     "elapsed": 3,
     "status": "ok",
     "timestamp": 1690050463416,
     "user": {
      "displayName": "Shivanand Algudkar",
      "userId": "07170867697649205027"
     },
     "user_tz": -330
    },
    "id": "mBOQiwDzs3ht"
   },
   "outputs": [],
   "source": [
    "# Get class names\n",
    "class_names = sorted(set([os.path.basename(os.path.dirname(file)) for file in os.listdir(data_path) if file.endswith(\".gif\")]))"
   ]
  },
  {
   "cell_type": "code",
   "execution_count": null,
   "metadata": {
    "colab": {
     "base_uri": "https://localhost:8080/"
    },
    "executionInfo": {
     "elapsed": 374,
     "status": "ok",
     "timestamp": 1690050466659,
     "user": {
      "displayName": "Shivanand Algudkar",
      "userId": "07170867697649205027"
     },
     "user_tz": -330
    },
    "id": "Jd2MfNEMs4Tk",
    "outputId": "7a224971-21e1-4b96-f009-5c54af8a002c"
   },
   "outputs": [],
   "source": [
    "# Generate training data from GIFs in different folders\n",
    "train_generator = data_generator.flow_from_directory(\n",
    "    data_path,\n",
    "    target_size=(image_width, image_height),\n",
    "    batch_size=batch_size,\n",
    "    class_mode='categorical',\n",
    "    shuffle=True\n",
    ")"
   ]
  },
  {
   "cell_type": "code",
   "execution_count": null,
   "metadata": {
    "executionInfo": {
     "elapsed": 2,
     "status": "ok",
     "timestamp": 1690050469538,
     "user": {
      "displayName": "Shivanand Algudkar",
      "userId": "07170867697649205027"
     },
     "user_tz": -330
    },
    "id": "3n6g7p2Ns8ST"
   },
   "outputs": [],
   "source": [
    "# Get the class names from the generator\n",
    "class_names = list(train_generator.class_indices.keys())"
   ]
  },
  {
   "cell_type": "code",
   "execution_count": null,
   "metadata": {
    "colab": {
     "base_uri": "https://localhost:8080/"
    },
    "executionInfo": {
     "elapsed": 458,
     "status": "ok",
     "timestamp": 1690050472450,
     "user": {
      "displayName": "Shivanand Algudkar",
      "userId": "07170867697649205027"
     },
     "user_tz": -330
    },
    "id": "Ay3QZ8Yocfqy",
    "outputId": "0fc9d810-7f02-4469-a4d7-35809dfaa473"
   },
   "outputs": [],
   "source": [
    "# Print the different classes\n",
    "print(\"Class Names:\")\n",
    "for class_name in class_names:\n",
    "    print(class_name)"
   ]
  },
  {
   "cell_type": "code",
   "execution_count": null,
   "metadata": {
    "colab": {
     "base_uri": "https://localhost:8080/",
     "height": 66,
     "referenced_widgets": [
      "ecb99f3c4bb6469cb13a898746bc0994",
      "a3e343ddc58b4ddb8222b500045f25f0",
      "084e8e867f0a4f6d8097c08676149403",
      "8a11a493e0fb4892b8c6a1d3f5088a01",
      "0633a81df3c5452480c2ec19543e9658",
      "1158e33e388d446998e8388e5a29e5c3",
      "15d3cbffd8654161a299da5a9c4fbf78",
      "b5907830dddc4faa94926fccf61f6557",
      "7c53e5ea926a4032ad822b0db5dce2a6",
      "ad1d45affbf549b3990f5d7922cf47f2",
      "a42c8fb174434771991a05e462ea9dc3"
     ]
    },
    "executionInfo": {
     "elapsed": 41831,
     "status": "ok",
     "timestamp": 1690050519196,
     "user": {
      "displayName": "Shivanand Algudkar",
      "userId": "07170867697649205027"
     },
     "user_tz": -330
    },
    "id": "3uDgoyQNc1kI",
    "outputId": "d5092058-2300-405a-a0a4-aad2cb8850b8"
   },
   "outputs": [],
   "source": [
    "batch_size = 1\n",
    "guidance_scale = 15.0\n",
    "\n",
    "prompt = input(\"Enter a prompt: \")\n",
    "\n",
    "latents = sample_latents(\n",
    "    batch_size=batch_size,\n",
    "    model=model,\n",
    "    diffusion=diffusion,\n",
    "    guidance_scale=guidance_scale,\n",
    "    model_kwargs=dict(texts=[prompt] * batch_size),\n",
    "    progress=True,\n",
    "    clip_denoised=True,\n",
    "    use_fp16=True,\n",
    "    use_karras=True,\n",
    "    karras_steps=64,\n",
    "    sigma_min=1e-3,\n",
    "    sigma_max=160,\n",
    "    s_churn=0,\n",
    ")\n",
    "\n",
    "render_mode = 'nerf' # you can change this to 'stf'\n",
    "size = 64 # this is the size of the renders; higher values take longer to render.\n",
    "\n",
    "cameras = create_pan_cameras(size, device)"
   ]
  },
  {
   "cell_type": "code",
   "execution_count": null,
   "metadata": {
    "executionInfo": {
     "elapsed": 366,
     "status": "ok",
     "timestamp": 1690050526484,
     "user": {
      "displayName": "Shivanand Algudkar",
      "userId": "07170867697649205027"
     },
     "user_tz": -330
    },
    "id": "xTH9BVXFdvbd"
   },
   "outputs": [],
   "source": [
    "def predict_label(images):\n",
    "    # Get the label from the user\n",
    "    label = input(\"Enter the label: \")\n",
    "\n",
    "    # Placeholder code for prediction based on the rendered 3D model\n",
    "    # You can replace this code with your own prediction algorithm\n",
    "\n",
    "    # Return the label provided by the user\n",
    "    return label"
   ]
  },
  {
   "cell_type": "code",
   "execution_count": null,
   "metadata": {
    "colab": {
     "base_uri": "https://localhost:8080/"
    },
    "executionInfo": {
     "elapsed": 7517,
     "status": "ok",
     "timestamp": 1690050541976,
     "user": {
      "displayName": "Shivanand Algudkar",
      "userId": "07170867697649205027"
     },
     "user_tz": -330
    },
    "id": "j2OwQ3fTpw3S",
    "outputId": "3b93ae90-6430-4119-f397-99e8847c31dc"
   },
   "outputs": [],
   "source": [
    "# Example usage\n",
    "images = [...]  # Provide the images of the rendered 3D model\n",
    "predicted_label = predict_label(images)\n",
    "print(predicted_label)"
   ]
  },
  {
   "cell_type": "code",
   "execution_count": 28,
   "metadata": {
    "colab": {
     "base_uri": "https://localhost:8080/",
     "height": 130,
     "referenced_widgets": [
      "d4f5b92ac98947d8a6fb291b4a4a595d",
      "4599397dab714df6ae6e39c802da27c3",
      "440b99d3a0944bffa2ab1866aef75298"
     ]
    },
    "executionInfo": {
     "elapsed": 61906,
     "status": "ok",
     "timestamp": 1690050609768,
     "user": {
      "displayName": "Shivanand Algudkar",
      "userId": "07170867697649205027"
     },
     "user_tz": -330
    },
    "id": "JVYm9uuITXZF",
    "outputId": "f33b7518-4ef6-42b8-9350-448a4c2d82f2"
   },
   "outputs": [
    {
     "ename": "KeyboardInterrupt",
     "evalue": "",
     "output_type": "error",
     "traceback": [
      "\u001b[1;31m---------------------------------------------------------------------------\u001b[0m",
      "\u001b[1;31mKeyboardInterrupt\u001b[0m                         Traceback (most recent call last)",
      "Cell \u001b[1;32mIn[28], line 6\u001b[0m\n\u001b[0;32m      3\u001b[0m predicted_labels \u001b[39m=\u001b[39m []\n\u001b[0;32m      5\u001b[0m \u001b[39mfor\u001b[39;00m i, latent \u001b[39min\u001b[39;00m \u001b[39menumerate\u001b[39m(latents):\n\u001b[1;32m----> 6\u001b[0m     images \u001b[39m=\u001b[39m decode_latent_images(xm, latent, cameras, rendering_mode\u001b[39m=\u001b[39;49mrender_mode)\n\u001b[0;32m      7\u001b[0m     display(gif_widget(images))\n\u001b[0;32m      9\u001b[0m     \u001b[39m# Get the ground truth label\u001b[39;00m\n",
      "File \u001b[1;32m~\\AppData\\Roaming\\Python\\Python311\\site-packages\\torch\\utils\\_contextlib.py:115\u001b[0m, in \u001b[0;36mcontext_decorator.<locals>.decorate_context\u001b[1;34m(*args, **kwargs)\u001b[0m\n\u001b[0;32m    112\u001b[0m \u001b[39m@functools\u001b[39m\u001b[39m.\u001b[39mwraps(func)\n\u001b[0;32m    113\u001b[0m \u001b[39mdef\u001b[39;00m \u001b[39mdecorate_context\u001b[39m(\u001b[39m*\u001b[39margs, \u001b[39m*\u001b[39m\u001b[39m*\u001b[39mkwargs):\n\u001b[0;32m    114\u001b[0m     \u001b[39mwith\u001b[39;00m ctx_factory():\n\u001b[1;32m--> 115\u001b[0m         \u001b[39mreturn\u001b[39;00m func(\u001b[39m*\u001b[39;49margs, \u001b[39m*\u001b[39;49m\u001b[39m*\u001b[39;49mkwargs)\n",
      "File \u001b[1;32mc:\\Users\\ashiv\\Downloads\\shap-e\\shap_e\\util\\notebooks.py:53\u001b[0m, in \u001b[0;36mdecode_latent_images\u001b[1;34m(xm, latent, cameras, rendering_mode)\u001b[0m\n\u001b[0;32m     46\u001b[0m \u001b[39m@torch\u001b[39m\u001b[39m.\u001b[39mno_grad()\n\u001b[0;32m     47\u001b[0m \u001b[39mdef\u001b[39;00m \u001b[39mdecode_latent_images\u001b[39m(\n\u001b[0;32m     48\u001b[0m     xm: Union[Transmitter, VectorDecoder],\n\u001b[1;32m   (...)\u001b[0m\n\u001b[0;32m     51\u001b[0m     rendering_mode: \u001b[39mstr\u001b[39m \u001b[39m=\u001b[39m \u001b[39m\"\u001b[39m\u001b[39mstf\u001b[39m\u001b[39m\"\u001b[39m,\n\u001b[0;32m     52\u001b[0m ):\n\u001b[1;32m---> 53\u001b[0m     decoded \u001b[39m=\u001b[39m xm\u001b[39m.\u001b[39;49mrenderer\u001b[39m.\u001b[39;49mrender_views(\n\u001b[0;32m     54\u001b[0m         AttrDict(cameras\u001b[39m=\u001b[39;49mcameras),\n\u001b[0;32m     55\u001b[0m         params\u001b[39m=\u001b[39;49m(xm\u001b[39m.\u001b[39;49mencoder \u001b[39mif\u001b[39;49;00m \u001b[39misinstance\u001b[39;49m(xm, Transmitter) \u001b[39melse\u001b[39;49;00m xm)\u001b[39m.\u001b[39;49mbottleneck_to_params(\n\u001b[0;32m     56\u001b[0m             latent[\u001b[39mNone\u001b[39;49;00m]\n\u001b[0;32m     57\u001b[0m         ),\n\u001b[0;32m     58\u001b[0m         options\u001b[39m=\u001b[39;49mAttrDict(rendering_mode\u001b[39m=\u001b[39;49mrendering_mode, render_with_direction\u001b[39m=\u001b[39;49m\u001b[39mFalse\u001b[39;49;00m),\n\u001b[0;32m     59\u001b[0m     )\n\u001b[0;32m     60\u001b[0m     arr \u001b[39m=\u001b[39m decoded\u001b[39m.\u001b[39mchannels\u001b[39m.\u001b[39mclamp(\u001b[39m0\u001b[39m, \u001b[39m255\u001b[39m)\u001b[39m.\u001b[39mto(torch\u001b[39m.\u001b[39muint8)[\u001b[39m0\u001b[39m]\u001b[39m.\u001b[39mcpu()\u001b[39m.\u001b[39mnumpy()\n\u001b[0;32m     61\u001b[0m     \u001b[39mreturn\u001b[39;00m [Image\u001b[39m.\u001b[39mfromarray(x) \u001b[39mfor\u001b[39;00m x \u001b[39min\u001b[39;00m arr]\n",
      "File \u001b[1;32mc:\\Users\\ashiv\\Downloads\\shap-e\\shap_e\\models\\nerstf\\renderer.py:215\u001b[0m, in \u001b[0;36mNeRSTFRenderer.render_views\u001b[1;34m(self, batch, params, options)\u001b[0m\n\u001b[0;32m    211\u001b[0m rendering_mode \u001b[39m=\u001b[39m options\u001b[39m.\u001b[39mget(\u001b[39m\"\u001b[39m\u001b[39mrendering_mode\u001b[39m\u001b[39m\"\u001b[39m, \u001b[39m\"\u001b[39m\u001b[39mstf\u001b[39m\u001b[39m\"\u001b[39m)\n\u001b[0;32m    213\u001b[0m \u001b[39mif\u001b[39;00m rendering_mode \u001b[39m==\u001b[39m \u001b[39m\"\u001b[39m\u001b[39mnerf\u001b[39m\u001b[39m\"\u001b[39m:\n\u001b[1;32m--> 215\u001b[0m     output \u001b[39m=\u001b[39m render_views_from_rays(\n\u001b[0;32m    216\u001b[0m         \u001b[39mself\u001b[39;49m\u001b[39m.\u001b[39;49mrender_rays,\n\u001b[0;32m    217\u001b[0m         batch,\n\u001b[0;32m    218\u001b[0m         params\u001b[39m=\u001b[39;49mparams,\n\u001b[0;32m    219\u001b[0m         options\u001b[39m=\u001b[39;49moptions,\n\u001b[0;32m    220\u001b[0m         device\u001b[39m=\u001b[39;49m\u001b[39mself\u001b[39;49m\u001b[39m.\u001b[39;49mdevice,\n\u001b[0;32m    221\u001b[0m     )\n\u001b[0;32m    223\u001b[0m \u001b[39melif\u001b[39;00m rendering_mode \u001b[39m==\u001b[39m \u001b[39m\"\u001b[39m\u001b[39mstf\u001b[39m\u001b[39m\"\u001b[39m:\n\u001b[0;32m    225\u001b[0m     sdf_fn \u001b[39m=\u001b[39m tf_fn \u001b[39m=\u001b[39m nerstf_fn \u001b[39m=\u001b[39m \u001b[39mNone\u001b[39;00m\n",
      "File \u001b[1;32mc:\\Users\\ashiv\\Downloads\\shap-e\\shap_e\\models\\renderer.py:217\u001b[0m, in \u001b[0;36mrender_views_from_rays\u001b[1;34m(render_rays, batch, params, options, device)\u001b[0m\n\u001b[0;32m    212\u001b[0m \u001b[39mfor\u001b[39;00m idx \u001b[39min\u001b[39;00m \u001b[39mrange\u001b[39m(n_batches):\n\u001b[0;32m    213\u001b[0m     rays_batch \u001b[39m=\u001b[39m AttrDict(\n\u001b[0;32m    214\u001b[0m         rays\u001b[39m=\u001b[39mrays[:, idx \u001b[39m*\u001b[39m ray_batch_size : (idx \u001b[39m+\u001b[39m \u001b[39m1\u001b[39m) \u001b[39m*\u001b[39m ray_batch_size],\n\u001b[0;32m    215\u001b[0m         radii\u001b[39m=\u001b[39mradii[:, idx \u001b[39m*\u001b[39m ray_batch_size : (idx \u001b[39m+\u001b[39m \u001b[39m1\u001b[39m) \u001b[39m*\u001b[39m ray_batch_size],\n\u001b[0;32m    216\u001b[0m     )\n\u001b[1;32m--> 217\u001b[0m     output \u001b[39m=\u001b[39m render_rays(rays_batch, params\u001b[39m=\u001b[39;49mparams, options\u001b[39m=\u001b[39;49moptions)\n\u001b[0;32m    219\u001b[0m     \u001b[39mif\u001b[39;00m \u001b[39misinstance\u001b[39m(camera, DifferentiableProjectiveCamera):\n\u001b[0;32m    220\u001b[0m         z_batch \u001b[39m=\u001b[39m z_directions[:, idx \u001b[39m*\u001b[39m ray_batch_size : (idx \u001b[39m+\u001b[39m \u001b[39m1\u001b[39m) \u001b[39m*\u001b[39m ray_batch_size]\n",
      "File \u001b[1;32mc:\\Users\\ashiv\\Downloads\\shap-e\\shap_e\\models\\nerstf\\renderer.py:141\u001b[0m, in \u001b[0;36mNeRSTFRenderer.render_rays\u001b[1;34m(self, batch, params, options)\u001b[0m\n\u001b[0;32m    132\u001b[0m options\u001b[39m.\u001b[39mnerf_level \u001b[39m=\u001b[39m \u001b[39m\"\u001b[39m\u001b[39mfine\u001b[39m\u001b[39m\"\u001b[39m\n\u001b[0;32m    133\u001b[0m parts \u001b[39m=\u001b[39m [\n\u001b[0;32m    134\u001b[0m     RayVolumeIntegral(\n\u001b[0;32m    135\u001b[0m         model\u001b[39m=\u001b[39mmodel,\n\u001b[1;32m   (...)\u001b[0m\n\u001b[0;32m    139\u001b[0m     ),\n\u001b[0;32m    140\u001b[0m ]\n\u001b[1;32m--> 141\u001b[0m fine_results, _, raw_outputs \u001b[39m=\u001b[39m render_rays(\n\u001b[0;32m    142\u001b[0m     batch\u001b[39m.\u001b[39;49mrays,\n\u001b[0;32m    143\u001b[0m     parts,\n\u001b[0;32m    144\u001b[0m     \u001b[39mself\u001b[39;49m\u001b[39m.\u001b[39;49mvoid,\n\u001b[0;32m    145\u001b[0m     shared\u001b[39m=\u001b[39;49m\u001b[39mnot\u001b[39;49;00m \u001b[39mself\u001b[39;49m\u001b[39m.\u001b[39;49mseparate_shared_samples,\n\u001b[0;32m    146\u001b[0m     prev_raw_outputs\u001b[39m=\u001b[39;49mcoarse_raw_outputs,\n\u001b[0;32m    147\u001b[0m     render_with_direction\u001b[39m=\u001b[39;49moptions\u001b[39m.\u001b[39;49mrender_with_direction,\n\u001b[0;32m    148\u001b[0m )\n\u001b[0;32m    149\u001b[0m raw \u001b[39m=\u001b[39m raw_outputs[\u001b[39m0\u001b[39m]\n\u001b[0;32m    151\u001b[0m aux_losses \u001b[39m=\u001b[39m fine_results\u001b[39m.\u001b[39moutput\u001b[39m.\u001b[39maux_losses\u001b[39m.\u001b[39mcopy()\n",
      "File \u001b[1;32mc:\\Users\\ashiv\\Downloads\\shap-e\\shap_e\\models\\nerf\\ray.py:79\u001b[0m, in \u001b[0;36mrender_rays\u001b[1;34m(rays, parts, void_model, shared, prev_raw_outputs, render_with_direction, importance_sampling_options)\u001b[0m\n\u001b[0;32m     74\u001b[0m results \u001b[39m=\u001b[39m \u001b[39mNone\u001b[39;00m\n\u001b[0;32m     76\u001b[0m \u001b[39mfor\u001b[39;00m part_i, prev_raw_i \u001b[39min\u001b[39;00m \u001b[39mzip\u001b[39m(parts, prev_raw_outputs):\n\u001b[0;32m     77\u001b[0m \n\u001b[0;32m     78\u001b[0m     \u001b[39m# Integrate over [t[i], t[i + 1]]\u001b[39;00m\n\u001b[1;32m---> 79\u001b[0m     results_i \u001b[39m=\u001b[39m part_i\u001b[39m.\u001b[39;49mrender_rays(\n\u001b[0;32m     80\u001b[0m         origin,\n\u001b[0;32m     81\u001b[0m         direc,\n\u001b[0;32m     82\u001b[0m         t0\u001b[39m=\u001b[39;49mt0,\n\u001b[0;32m     83\u001b[0m         prev_raw\u001b[39m=\u001b[39;49mprev_raw_i,\n\u001b[0;32m     84\u001b[0m         shared\u001b[39m=\u001b[39;49mshared,\n\u001b[0;32m     85\u001b[0m         render_with_direction\u001b[39m=\u001b[39;49mrender_with_direction,\n\u001b[0;32m     86\u001b[0m     )\n\u001b[0;32m     88\u001b[0m     \u001b[39m# Create an importance sampler for (optional) fine rendering\u001b[39;00m\n\u001b[0;32m     89\u001b[0m     samplers\u001b[39m.\u001b[39mappend(\n\u001b[0;32m     90\u001b[0m         ImportanceRaySampler(\n\u001b[0;32m     91\u001b[0m             results_i\u001b[39m.\u001b[39mvolume_range, results_i\u001b[39m.\u001b[39mraw, \u001b[39m*\u001b[39m\u001b[39m*\u001b[39mimportance_sampling_options\n\u001b[0;32m     92\u001b[0m         )\n\u001b[0;32m     93\u001b[0m     )\n",
      "File \u001b[1;32mc:\\Users\\ashiv\\Downloads\\shap-e\\shap_e\\models\\nerf\\ray.py:238\u001b[0m, in \u001b[0;36mRayVolumeIntegral.render_rays\u001b[1;34m(self, origin, direction, t0, prev_raw, shared, render_with_direction)\u001b[0m\n\u001b[0;32m    235\u001b[0m \u001b[39m# 1. Intersect the rays with the current volume and sample ts to\u001b[39;00m\n\u001b[0;32m    236\u001b[0m \u001b[39m# integrate along.\u001b[39;00m\n\u001b[0;32m    237\u001b[0m vrange \u001b[39m=\u001b[39m \u001b[39mself\u001b[39m\u001b[39m.\u001b[39mvolume\u001b[39m.\u001b[39mintersect(origin, direction, t0_lower\u001b[39m=\u001b[39mt0)\n\u001b[1;32m--> 238\u001b[0m ts \u001b[39m=\u001b[39m \u001b[39mself\u001b[39;49m\u001b[39m.\u001b[39;49msampler\u001b[39m.\u001b[39;49msample(vrange\u001b[39m.\u001b[39;49mt0, vrange\u001b[39m.\u001b[39;49mt1, \u001b[39mself\u001b[39;49m\u001b[39m.\u001b[39;49mn_samples)\n\u001b[0;32m    240\u001b[0m \u001b[39mif\u001b[39;00m prev_raw \u001b[39mis\u001b[39;00m \u001b[39mnot\u001b[39;00m \u001b[39mNone\u001b[39;00m \u001b[39mand\u001b[39;00m \u001b[39mnot\u001b[39;00m shared:\n\u001b[0;32m    241\u001b[0m     \u001b[39m# Append the previous ts now before fprop because previous\u001b[39;00m\n\u001b[0;32m    242\u001b[0m     \u001b[39m# rendering used a different model and we can't reuse the output.\u001b[39;00m\n\u001b[0;32m    243\u001b[0m     ts \u001b[39m=\u001b[39m torch\u001b[39m.\u001b[39msort(torch\u001b[39m.\u001b[39mcat([ts, prev_raw\u001b[39m.\u001b[39mts], dim\u001b[39m=\u001b[39m\u001b[39m-\u001b[39m\u001b[39m2\u001b[39m), dim\u001b[39m=\u001b[39m\u001b[39m-\u001b[39m\u001b[39m2\u001b[39m)\u001b[39m.\u001b[39mvalues\n",
      "File \u001b[1;32m~\\AppData\\Roaming\\Python\\Python311\\site-packages\\torch\\utils\\_contextlib.py:115\u001b[0m, in \u001b[0;36mcontext_decorator.<locals>.decorate_context\u001b[1;34m(*args, **kwargs)\u001b[0m\n\u001b[0;32m    112\u001b[0m \u001b[39m@functools\u001b[39m\u001b[39m.\u001b[39mwraps(func)\n\u001b[0;32m    113\u001b[0m \u001b[39mdef\u001b[39;00m \u001b[39mdecorate_context\u001b[39m(\u001b[39m*\u001b[39margs, \u001b[39m*\u001b[39m\u001b[39m*\u001b[39mkwargs):\n\u001b[0;32m    114\u001b[0m     \u001b[39mwith\u001b[39;00m ctx_factory():\n\u001b[1;32m--> 115\u001b[0m         \u001b[39mreturn\u001b[39;00m func(\u001b[39m*\u001b[39;49margs, \u001b[39m*\u001b[39;49m\u001b[39m*\u001b[39;49mkwargs)\n",
      "File \u001b[1;32mc:\\Users\\ashiv\\Downloads\\shap-e\\shap_e\\models\\nerf\\ray.py:505\u001b[0m, in \u001b[0;36mImportanceRaySampler.sample\u001b[1;34m(self, t0, t1, n_samples)\u001b[0m\n\u001b[0;32m    503\u001b[0m inds \u001b[39m=\u001b[39m sample_pmf(pmf, n_samples)\n\u001b[0;32m    504\u001b[0m \u001b[39massert\u001b[39;00m inds\u001b[39m.\u001b[39mshape \u001b[39m==\u001b[39m (batch_size, \u001b[39m*\u001b[39mshape, n_samples, \u001b[39m1\u001b[39m)\n\u001b[1;32m--> 505\u001b[0m \u001b[39massert\u001b[39;00m (inds \u001b[39m>\u001b[39m\u001b[39m=\u001b[39m \u001b[39m0\u001b[39m)\u001b[39m.\u001b[39mall() \u001b[39mand\u001b[39;00m (inds \u001b[39m<\u001b[39;49m n_coarse_samples)\u001b[39m.\u001b[39;49mall()\n\u001b[0;32m    507\u001b[0m t_rand \u001b[39m=\u001b[39m torch\u001b[39m.\u001b[39mrand(inds\u001b[39m.\u001b[39mshape, device\u001b[39m=\u001b[39minds\u001b[39m.\u001b[39mdevice)\n\u001b[0;32m    508\u001b[0m lower_ \u001b[39m=\u001b[39m torch\u001b[39m.\u001b[39mgather(lower, \u001b[39m-\u001b[39m\u001b[39m2\u001b[39m, inds)\n",
      "\u001b[1;31mKeyboardInterrupt\u001b[0m: "
     ]
    }
   ],
   "source": [
    "# Ground truth labels and predicted labels\n",
    "ground_truth_labels = []\n",
    "predicted_labels = []\n",
    "\n",
    "for i, latent in enumerate(latents):\n",
    "    images = decode_latent_images(xm, latent, cameras, rendering_mode=render_mode)\n",
    "    display(gif_widget(images))\n",
    "\n",
    "    # Get the ground truth label\n",
    "    ground_truth_label = input(f\"Enter the ground truth label for image {i+1}: \")\n",
    "    ground_truth_labels.extend([ground_truth_label] * len(images))\n",
    "\n",
    "    # Placeholder for your code to predict the label of the rendered 3D model\n",
    "    predicted_label = predict_label(images)  # Modify this line with your actual prediction code\n",
    "    predicted_labels.extend([predicted_label] * len(images))"
   ]
  },
  {
   "cell_type": "code",
   "execution_count": null,
   "metadata": {
    "executionInfo": {
     "elapsed": 386,
     "status": "ok",
     "timestamp": 1690051608090,
     "user": {
      "displayName": "Shivanand Algudkar",
      "userId": "07170867697649205027"
     },
     "user_tz": -330
    },
    "id": "B_93hdrrhrA8"
   },
   "outputs": [],
   "source": [
    "# Calculate confusion matrix\n",
    "labels = np.unique(ground_truth_labels)\n",
    "confusion_mat = confusion_matrix(ground_truth_labels, predicted_labels, labels=labels)"
   ]
  },
  {
   "cell_type": "code",
   "execution_count": null,
   "metadata": {
    "colab": {
     "base_uri": "https://localhost:8080/",
     "height": 485
    },
    "executionInfo": {
     "elapsed": 830,
     "status": "ok",
     "timestamp": 1690051611789,
     "user": {
      "displayName": "Shivanand Algudkar",
      "userId": "07170867697649205027"
     },
     "user_tz": -330
    },
    "id": "vz_MBychh1Pq",
    "outputId": "06e7a29a-86b1-4a49-9a80-ba1775b1c3b2"
   },
   "outputs": [],
   "source": [
    "# Plot confusion matrix\n",
    "fig, ax = plt.subplots()\n",
    "im = ax.imshow(confusion_mat, interpolation='nearest', cmap=plt.cm.Blues)\n",
    "ax.figure.colorbar(im, ax=ax)\n",
    "ax.set(xticks=np.arange(len(labels)),\n",
    "       yticks=np.arange(len(labels)),\n",
    "       xticklabels=labels, yticklabels=labels,\n",
    "       xlabel='Predicted label', ylabel='Ground truth label',\n",
    "       title='Confusion Matrix')\n",
    "plt.setp(ax.get_xticklabels(), rotation=45, ha=\"right\", rotation_mode=\"anchor\")\n",
    "plt.show()"
   ]
  },
  {
   "cell_type": "code",
   "execution_count": null,
   "metadata": {
    "executionInfo": {
     "elapsed": 446,
     "status": "ok",
     "timestamp": 1690051621917,
     "user": {
      "displayName": "Shivanand Algudkar",
      "userId": "07170867697649205027"
     },
     "user_tz": -330
    },
    "id": "veew5M39i25R"
   },
   "outputs": [],
   "source": [
    "# Calculate accuracy\n",
    "accuracy = np.sum(np.diag(confusion_mat)) / np.sum(confusion_mat)"
   ]
  },
  {
   "cell_type": "code",
   "execution_count": null,
   "metadata": {
    "colab": {
     "base_uri": "https://localhost:8080/"
    },
    "executionInfo": {
     "elapsed": 632,
     "status": "ok",
     "timestamp": 1690051625001,
     "user": {
      "displayName": "Shivanand Algudkar",
      "userId": "07170867697649205027"
     },
     "user_tz": -330
    },
    "id": "Xx_XuicfmLt-",
    "outputId": "e2e54367-582a-4414-c7ae-5905a40ad198"
   },
   "outputs": [],
   "source": [
    "# Print results\n",
    "print(\"Confusion Matrix:\")\n",
    "print(confusion_mat)\n",
    "print(\"Accuracy:\", accuracy)"
   ]
  },
  {
   "cell_type": "code",
   "execution_count": null,
   "metadata": {
    "colab": {
     "base_uri": "https://localhost:8080/",
     "height": 449
    },
    "executionInfo": {
     "elapsed": 9,
     "status": "ok",
     "timestamp": 1690051627211,
     "user": {
      "displayName": "Shivanand Algudkar",
      "userId": "07170867697649205027"
     },
     "user_tz": -330
    },
    "id": "f241ovo3mOXN",
    "outputId": "83774fea-806e-4108-ddbb-c1ee4048ef43"
   },
   "outputs": [],
   "source": [
    "# Plot correlation graph\n",
    "plt.scatter(ground_truth_labels, predicted_labels)\n",
    "plt.xlabel('Ground Truth')\n",
    "plt.ylabel('Predicted')\n",
    "plt.show()"
   ]
  },
  {
   "cell_type": "code",
   "execution_count": null,
   "metadata": {
    "colab": {
     "base_uri": "https://localhost:8080/"
    },
    "executionInfo": {
     "elapsed": 9016,
     "status": "ok",
     "timestamp": 1690051640846,
     "user": {
      "displayName": "Shivanand Algudkar",
      "userId": "07170867697649205027"
     },
     "user_tz": -330
    },
    "id": "9Re5btpWmQrK",
    "outputId": "d048e3c2-dc07-45c0-9e67-44979ccc0b13"
   },
   "outputs": [],
   "source": [
    "for i, latent in enumerate(latents):\n",
    "    file_name = input(f\"Enter a name for mesh {i+1}: \")\n",
    "    with open(f'{file_name}.ply', 'wb') as f:\n",
    "        decode_latent_mesh(xm, latent).tri_mesh().write_ply(f)"
   ]
  },
  {
   "cell_type": "code",
   "execution_count": null,
   "metadata": {
    "colab": {
     "base_uri": "https://localhost:8080/"
    },
    "executionInfo": {
     "elapsed": 19801,
     "status": "ok",
     "timestamp": 1690051665009,
     "user": {
      "displayName": "Shivanand Algudkar",
      "userId": "07170867697649205027"
     },
     "user_tz": -330
    },
    "id": "B86z7JCEsOai",
    "outputId": "2b400b37-41c8-4cc2-a61d-b1b0347e085e"
   },
   "outputs": [],
   "source": [
    "from google.colab import drive\n",
    "drive.mount('/content/drive')\n"
   ]
  }
 ],
 "metadata": {
  "accelerator": "GPU",
  "colab": {
   "authorship_tag": "ABX9TyNLWHXq92xYak90rWM44c8M",
   "mount_file_id": "1h5E5Trp_3QrA7JpYN74g-36b_hmCODAg",
   "provenance": []
  },
  "kernelspec": {
   "display_name": "Python 3 (ipykernel)",
   "language": "python",
   "name": "python3"
  },
  "language_info": {
   "codemirror_mode": {
    "name": "ipython",
    "version": 3
   },
   "file_extension": ".py",
   "mimetype": "text/x-python",
   "name": "python",
   "nbconvert_exporter": "python",
   "pygments_lexer": "ipython3",
   "version": "3.10.9"
  },
  "widgets": {
   "application/vnd.jupyter.widget-state+json": {
    "0633a81df3c5452480c2ec19543e9658": {
     "model_module": "@jupyter-widgets/base",
     "model_module_version": "1.2.0",
     "model_name": "LayoutModel",
     "state": {
      "_model_module": "@jupyter-widgets/base",
      "_model_module_version": "1.2.0",
      "_model_name": "LayoutModel",
      "_view_count": null,
      "_view_module": "@jupyter-widgets/base",
      "_view_module_version": "1.2.0",
      "_view_name": "LayoutView",
      "align_content": null,
      "align_items": null,
      "align_self": null,
      "border": null,
      "bottom": null,
      "display": null,
      "flex": null,
      "flex_flow": null,
      "grid_area": null,
      "grid_auto_columns": null,
      "grid_auto_flow": null,
      "grid_auto_rows": null,
      "grid_column": null,
      "grid_gap": null,
      "grid_row": null,
      "grid_template_areas": null,
      "grid_template_columns": null,
      "grid_template_rows": null,
      "height": null,
      "justify_content": null,
      "justify_items": null,
      "left": null,
      "margin": null,
      "max_height": null,
      "max_width": null,
      "min_height": null,
      "min_width": null,
      "object_fit": null,
      "object_position": null,
      "order": null,
      "overflow": null,
      "overflow_x": null,
      "overflow_y": null,
      "padding": null,
      "right": null,
      "top": null,
      "visibility": null,
      "width": null
     }
    },
    "084e8e867f0a4f6d8097c08676149403": {
     "model_module": "@jupyter-widgets/controls",
     "model_module_version": "1.5.0",
     "model_name": "FloatProgressModel",
     "state": {
      "_dom_classes": [],
      "_model_module": "@jupyter-widgets/controls",
      "_model_module_version": "1.5.0",
      "_model_name": "FloatProgressModel",
      "_view_count": null,
      "_view_module": "@jupyter-widgets/controls",
      "_view_module_version": "1.5.0",
      "_view_name": "ProgressView",
      "bar_style": "success",
      "description": "",
      "description_tooltip": null,
      "layout": "IPY_MODEL_b5907830dddc4faa94926fccf61f6557",
      "max": 64,
      "min": 0,
      "orientation": "horizontal",
      "style": "IPY_MODEL_7c53e5ea926a4032ad822b0db5dce2a6",
      "value": 64
     }
    },
    "1158e33e388d446998e8388e5a29e5c3": {
     "model_module": "@jupyter-widgets/base",
     "model_module_version": "1.2.0",
     "model_name": "LayoutModel",
     "state": {
      "_model_module": "@jupyter-widgets/base",
      "_model_module_version": "1.2.0",
      "_model_name": "LayoutModel",
      "_view_count": null,
      "_view_module": "@jupyter-widgets/base",
      "_view_module_version": "1.2.0",
      "_view_name": "LayoutView",
      "align_content": null,
      "align_items": null,
      "align_self": null,
      "border": null,
      "bottom": null,
      "display": null,
      "flex": null,
      "flex_flow": null,
      "grid_area": null,
      "grid_auto_columns": null,
      "grid_auto_flow": null,
      "grid_auto_rows": null,
      "grid_column": null,
      "grid_gap": null,
      "grid_row": null,
      "grid_template_areas": null,
      "grid_template_columns": null,
      "grid_template_rows": null,
      "height": null,
      "justify_content": null,
      "justify_items": null,
      "left": null,
      "margin": null,
      "max_height": null,
      "max_width": null,
      "min_height": null,
      "min_width": null,
      "object_fit": null,
      "object_position": null,
      "order": null,
      "overflow": null,
      "overflow_x": null,
      "overflow_y": null,
      "padding": null,
      "right": null,
      "top": null,
      "visibility": null,
      "width": null
     }
    },
    "12972a7bdb564f219211c5e5ed29fc99": {
     "model_module": "@jupyter-widgets/base",
     "model_module_version": "1.2.0",
     "model_name": "LayoutModel",
     "state": {
      "_model_module": "@jupyter-widgets/base",
      "_model_module_version": "1.2.0",
      "_model_name": "LayoutModel",
      "_view_count": null,
      "_view_module": "@jupyter-widgets/base",
      "_view_module_version": "1.2.0",
      "_view_name": "LayoutView",
      "align_content": null,
      "align_items": null,
      "align_self": null,
      "border": null,
      "bottom": null,
      "display": null,
      "flex": null,
      "flex_flow": null,
      "grid_area": null,
      "grid_auto_columns": null,
      "grid_auto_flow": null,
      "grid_auto_rows": null,
      "grid_column": null,
      "grid_gap": null,
      "grid_row": null,
      "grid_template_areas": null,
      "grid_template_columns": null,
      "grid_template_rows": null,
      "height": null,
      "justify_content": null,
      "justify_items": null,
      "left": null,
      "margin": null,
      "max_height": null,
      "max_width": null,
      "min_height": null,
      "min_width": null,
      "object_fit": null,
      "object_position": null,
      "order": null,
      "overflow": null,
      "overflow_x": null,
      "overflow_y": null,
      "padding": null,
      "right": null,
      "top": null,
      "visibility": null,
      "width": null
     }
    },
    "15d3cbffd8654161a299da5a9c4fbf78": {
     "model_module": "@jupyter-widgets/controls",
     "model_module_version": "1.5.0",
     "model_name": "DescriptionStyleModel",
     "state": {
      "_model_module": "@jupyter-widgets/controls",
      "_model_module_version": "1.5.0",
      "_model_name": "DescriptionStyleModel",
      "_view_count": null,
      "_view_module": "@jupyter-widgets/base",
      "_view_module_version": "1.2.0",
      "_view_name": "StyleView",
      "description_width": ""
     }
    },
    "2df81f8805a34f10bd4ca40a064bfefe": {
     "model_module": "@jupyter-widgets/controls",
     "model_module_version": "1.5.0",
     "model_name": "DescriptionStyleModel",
     "state": {
      "_model_module": "@jupyter-widgets/controls",
      "_model_module_version": "1.5.0",
      "_model_name": "DescriptionStyleModel",
      "_view_count": null,
      "_view_module": "@jupyter-widgets/base",
      "_view_module_version": "1.2.0",
      "_view_name": "StyleView",
      "description_width": ""
     }
    },
    "39c9af2e0bad4adb9822c8423e188834": {
     "model_module": "@jupyter-widgets/controls",
     "model_module_version": "1.5.0",
     "model_name": "HBoxModel",
     "state": {
      "_dom_classes": [],
      "_model_module": "@jupyter-widgets/controls",
      "_model_module_version": "1.5.0",
      "_model_name": "HBoxModel",
      "_view_count": null,
      "_view_module": "@jupyter-widgets/controls",
      "_view_module_version": "1.5.0",
      "_view_name": "HBoxView",
      "box_style": "",
      "children": [
       "IPY_MODEL_b33f9fa164144cd59c7f698579ba28f0",
       "IPY_MODEL_bc56bbc4b0fa41c280374c4ea591320e",
       "IPY_MODEL_520f87cd651b4f68a53bf953e69d9230"
      ],
      "layout": "IPY_MODEL_b8b95c4ec6b3427fb9a924e3c0ec842c"
     }
    },
    "440b99d3a0944bffa2ab1866aef75298": {
     "model_module": "@jupyter-widgets/controls",
     "model_module_version": "1.5.0",
     "model_name": "DescriptionStyleModel",
     "state": {
      "_model_module": "@jupyter-widgets/controls",
      "_model_module_version": "1.5.0",
      "_model_name": "DescriptionStyleModel",
      "_view_count": null,
      "_view_module": "@jupyter-widgets/base",
      "_view_module_version": "1.2.0",
      "_view_name": "StyleView",
      "description_width": ""
     }
    },
    "4599397dab714df6ae6e39c802da27c3": {
     "model_module": "@jupyter-widgets/base",
     "model_module_version": "1.2.0",
     "model_name": "LayoutModel",
     "state": {
      "_model_module": "@jupyter-widgets/base",
      "_model_module_version": "1.2.0",
      "_model_name": "LayoutModel",
      "_view_count": null,
      "_view_module": "@jupyter-widgets/base",
      "_view_module_version": "1.2.0",
      "_view_name": "LayoutView",
      "align_content": null,
      "align_items": null,
      "align_self": null,
      "border": null,
      "bottom": null,
      "display": null,
      "flex": null,
      "flex_flow": null,
      "grid_area": null,
      "grid_auto_columns": null,
      "grid_auto_flow": null,
      "grid_auto_rows": null,
      "grid_column": null,
      "grid_gap": null,
      "grid_row": null,
      "grid_template_areas": null,
      "grid_template_columns": null,
      "grid_template_rows": null,
      "height": null,
      "justify_content": null,
      "justify_items": null,
      "left": null,
      "margin": null,
      "max_height": null,
      "max_width": null,
      "min_height": null,
      "min_width": null,
      "object_fit": null,
      "object_position": null,
      "order": null,
      "overflow": null,
      "overflow_x": null,
      "overflow_y": null,
      "padding": null,
      "right": null,
      "top": null,
      "visibility": null,
      "width": null
     }
    },
    "520f87cd651b4f68a53bf953e69d9230": {
     "model_module": "@jupyter-widgets/controls",
     "model_module_version": "1.5.0",
     "model_name": "HTMLModel",
     "state": {
      "_dom_classes": [],
      "_model_module": "@jupyter-widgets/controls",
      "_model_module_version": "1.5.0",
      "_model_name": "HTMLModel",
      "_view_count": null,
      "_view_module": "@jupyter-widgets/controls",
      "_view_module_version": "1.5.0",
      "_view_name": "HTMLView",
      "description": "",
      "description_tooltip": null,
      "layout": "IPY_MODEL_fc3659104a7a4c0fb91d92ab0b46ac9b",
      "placeholder": "​",
      "style": "IPY_MODEL_6cdf5fb6be284cd385ef690d18fb49c8",
      "value": " 1.26G/1.26G [00:11&lt;00:00, 147MiB/s]"
     }
    },
    "5b83b8b1a0fc4a508e5a9e97cacc11a1": {
     "model_module": "@jupyter-widgets/controls",
     "model_module_version": "1.5.0",
     "model_name": "HBoxModel",
     "state": {
      "_dom_classes": [],
      "_model_module": "@jupyter-widgets/controls",
      "_model_module_version": "1.5.0",
      "_model_name": "HBoxModel",
      "_view_count": null,
      "_view_module": "@jupyter-widgets/controls",
      "_view_module_version": "1.5.0",
      "_view_name": "HBoxView",
      "box_style": "",
      "children": [
       "IPY_MODEL_5c61e210882a44ac8a57db78408c8138",
       "IPY_MODEL_b1cba9baa031448c90bb7077fc6be677",
       "IPY_MODEL_697b8b2b902e4f449a83825b4a905769"
      ],
      "layout": "IPY_MODEL_6911f04d916f46e78ca9d0b7c6d0c666"
     }
    },
    "5c61e210882a44ac8a57db78408c8138": {
     "model_module": "@jupyter-widgets/controls",
     "model_module_version": "1.5.0",
     "model_name": "HTMLModel",
     "state": {
      "_dom_classes": [],
      "_model_module": "@jupyter-widgets/controls",
      "_model_module_version": "1.5.0",
      "_model_name": "HTMLModel",
      "_view_count": null,
      "_view_module": "@jupyter-widgets/controls",
      "_view_module_version": "1.5.0",
      "_view_name": "HTMLView",
      "description": "",
      "description_tooltip": null,
      "layout": "IPY_MODEL_c5aec8d37b6444ec9cafe1154250fd4f",
      "placeholder": "​",
      "style": "IPY_MODEL_9dec9ea8edea40259a9dadbd62d5864c",
      "value": "100%"
     }
    },
    "6911f04d916f46e78ca9d0b7c6d0c666": {
     "model_module": "@jupyter-widgets/base",
     "model_module_version": "1.2.0",
     "model_name": "LayoutModel",
     "state": {
      "_model_module": "@jupyter-widgets/base",
      "_model_module_version": "1.2.0",
      "_model_name": "LayoutModel",
      "_view_count": null,
      "_view_module": "@jupyter-widgets/base",
      "_view_module_version": "1.2.0",
      "_view_name": "LayoutView",
      "align_content": null,
      "align_items": null,
      "align_self": null,
      "border": null,
      "bottom": null,
      "display": null,
      "flex": null,
      "flex_flow": null,
      "grid_area": null,
      "grid_auto_columns": null,
      "grid_auto_flow": null,
      "grid_auto_rows": null,
      "grid_column": null,
      "grid_gap": null,
      "grid_row": null,
      "grid_template_areas": null,
      "grid_template_columns": null,
      "grid_template_rows": null,
      "height": null,
      "justify_content": null,
      "justify_items": null,
      "left": null,
      "margin": null,
      "max_height": null,
      "max_width": null,
      "min_height": null,
      "min_width": null,
      "object_fit": null,
      "object_position": null,
      "order": null,
      "overflow": null,
      "overflow_x": null,
      "overflow_y": null,
      "padding": null,
      "right": null,
      "top": null,
      "visibility": null,
      "width": null
     }
    },
    "697b8b2b902e4f449a83825b4a905769": {
     "model_module": "@jupyter-widgets/controls",
     "model_module_version": "1.5.0",
     "model_name": "HTMLModel",
     "state": {
      "_dom_classes": [],
      "_model_module": "@jupyter-widgets/controls",
      "_model_module_version": "1.5.0",
      "_model_name": "HTMLModel",
      "_view_count": null,
      "_view_module": "@jupyter-widgets/controls",
      "_view_module_version": "1.5.0",
      "_view_name": "HTMLView",
      "description": "",
      "description_tooltip": null,
      "layout": "IPY_MODEL_c3f5461a931c49c5be4df5c566049d8c",
      "placeholder": "​",
      "style": "IPY_MODEL_eb92bd7cc7144b61ad7b2840810f7287",
      "value": " 1.78G/1.78G [00:18&lt;00:00, 137MiB/s]"
     }
    },
    "6cdf5fb6be284cd385ef690d18fb49c8": {
     "model_module": "@jupyter-widgets/controls",
     "model_module_version": "1.5.0",
     "model_name": "DescriptionStyleModel",
     "state": {
      "_model_module": "@jupyter-widgets/controls",
      "_model_module_version": "1.5.0",
      "_model_name": "DescriptionStyleModel",
      "_view_count": null,
      "_view_module": "@jupyter-widgets/base",
      "_view_module_version": "1.2.0",
      "_view_name": "StyleView",
      "description_width": ""
     }
    },
    "6fa25d27b0294de18603f9e28358be62": {
     "model_module": "@jupyter-widgets/controls",
     "model_module_version": "1.5.0",
     "model_name": "ProgressStyleModel",
     "state": {
      "_model_module": "@jupyter-widgets/controls",
      "_model_module_version": "1.5.0",
      "_model_name": "ProgressStyleModel",
      "_view_count": null,
      "_view_module": "@jupyter-widgets/base",
      "_view_module_version": "1.2.0",
      "_view_name": "StyleView",
      "bar_color": null,
      "description_width": ""
     }
    },
    "74a6a268019b489fb7eadf248b3640b6": {
     "model_module": "@jupyter-widgets/controls",
     "model_module_version": "1.5.0",
     "model_name": "ProgressStyleModel",
     "state": {
      "_model_module": "@jupyter-widgets/controls",
      "_model_module_version": "1.5.0",
      "_model_name": "ProgressStyleModel",
      "_view_count": null,
      "_view_module": "@jupyter-widgets/base",
      "_view_module_version": "1.2.0",
      "_view_name": "StyleView",
      "bar_color": null,
      "description_width": ""
     }
    },
    "7c53e5ea926a4032ad822b0db5dce2a6": {
     "model_module": "@jupyter-widgets/controls",
     "model_module_version": "1.5.0",
     "model_name": "ProgressStyleModel",
     "state": {
      "_model_module": "@jupyter-widgets/controls",
      "_model_module_version": "1.5.0",
      "_model_name": "ProgressStyleModel",
      "_view_count": null,
      "_view_module": "@jupyter-widgets/base",
      "_view_module_version": "1.2.0",
      "_view_name": "StyleView",
      "bar_color": null,
      "description_width": ""
     }
    },
    "7f3d00a90d7c4172ac7b048260f2662f": {
     "model_module": "@jupyter-widgets/base",
     "model_module_version": "1.2.0",
     "model_name": "LayoutModel",
     "state": {
      "_model_module": "@jupyter-widgets/base",
      "_model_module_version": "1.2.0",
      "_model_name": "LayoutModel",
      "_view_count": null,
      "_view_module": "@jupyter-widgets/base",
      "_view_module_version": "1.2.0",
      "_view_name": "LayoutView",
      "align_content": null,
      "align_items": null,
      "align_self": null,
      "border": null,
      "bottom": null,
      "display": null,
      "flex": null,
      "flex_flow": null,
      "grid_area": null,
      "grid_auto_columns": null,
      "grid_auto_flow": null,
      "grid_auto_rows": null,
      "grid_column": null,
      "grid_gap": null,
      "grid_row": null,
      "grid_template_areas": null,
      "grid_template_columns": null,
      "grid_template_rows": null,
      "height": null,
      "justify_content": null,
      "justify_items": null,
      "left": null,
      "margin": null,
      "max_height": null,
      "max_width": null,
      "min_height": null,
      "min_width": null,
      "object_fit": null,
      "object_position": null,
      "order": null,
      "overflow": null,
      "overflow_x": null,
      "overflow_y": null,
      "padding": null,
      "right": null,
      "top": null,
      "visibility": null,
      "width": null
     }
    },
    "8a11a493e0fb4892b8c6a1d3f5088a01": {
     "model_module": "@jupyter-widgets/controls",
     "model_module_version": "1.5.0",
     "model_name": "HTMLModel",
     "state": {
      "_dom_classes": [],
      "_model_module": "@jupyter-widgets/controls",
      "_model_module_version": "1.5.0",
      "_model_name": "HTMLModel",
      "_view_count": null,
      "_view_module": "@jupyter-widgets/controls",
      "_view_module_version": "1.5.0",
      "_view_name": "HTMLView",
      "description": "",
      "description_tooltip": null,
      "layout": "IPY_MODEL_ad1d45affbf549b3990f5d7922cf47f2",
      "placeholder": "​",
      "style": "IPY_MODEL_a42c8fb174434771991a05e462ea9dc3",
      "value": " 64/64 [00:23&lt;00:00,  3.09it/s]"
     }
    },
    "9dec9ea8edea40259a9dadbd62d5864c": {
     "model_module": "@jupyter-widgets/controls",
     "model_module_version": "1.5.0",
     "model_name": "DescriptionStyleModel",
     "state": {
      "_model_module": "@jupyter-widgets/controls",
      "_model_module_version": "1.5.0",
      "_model_name": "DescriptionStyleModel",
      "_view_count": null,
      "_view_module": "@jupyter-widgets/base",
      "_view_module_version": "1.2.0",
      "_view_name": "StyleView",
      "description_width": ""
     }
    },
    "a3e343ddc58b4ddb8222b500045f25f0": {
     "model_module": "@jupyter-widgets/controls",
     "model_module_version": "1.5.0",
     "model_name": "HTMLModel",
     "state": {
      "_dom_classes": [],
      "_model_module": "@jupyter-widgets/controls",
      "_model_module_version": "1.5.0",
      "_model_name": "HTMLModel",
      "_view_count": null,
      "_view_module": "@jupyter-widgets/controls",
      "_view_module_version": "1.5.0",
      "_view_name": "HTMLView",
      "description": "",
      "description_tooltip": null,
      "layout": "IPY_MODEL_1158e33e388d446998e8388e5a29e5c3",
      "placeholder": "​",
      "style": "IPY_MODEL_15d3cbffd8654161a299da5a9c4fbf78",
      "value": "100%"
     }
    },
    "a42c8fb174434771991a05e462ea9dc3": {
     "model_module": "@jupyter-widgets/controls",
     "model_module_version": "1.5.0",
     "model_name": "DescriptionStyleModel",
     "state": {
      "_model_module": "@jupyter-widgets/controls",
      "_model_module_version": "1.5.0",
      "_model_name": "DescriptionStyleModel",
      "_view_count": null,
      "_view_module": "@jupyter-widgets/base",
      "_view_module_version": "1.2.0",
      "_view_name": "StyleView",
      "description_width": ""
     }
    },
    "ad1d45affbf549b3990f5d7922cf47f2": {
     "model_module": "@jupyter-widgets/base",
     "model_module_version": "1.2.0",
     "model_name": "LayoutModel",
     "state": {
      "_model_module": "@jupyter-widgets/base",
      "_model_module_version": "1.2.0",
      "_model_name": "LayoutModel",
      "_view_count": null,
      "_view_module": "@jupyter-widgets/base",
      "_view_module_version": "1.2.0",
      "_view_name": "LayoutView",
      "align_content": null,
      "align_items": null,
      "align_self": null,
      "border": null,
      "bottom": null,
      "display": null,
      "flex": null,
      "flex_flow": null,
      "grid_area": null,
      "grid_auto_columns": null,
      "grid_auto_flow": null,
      "grid_auto_rows": null,
      "grid_column": null,
      "grid_gap": null,
      "grid_row": null,
      "grid_template_areas": null,
      "grid_template_columns": null,
      "grid_template_rows": null,
      "height": null,
      "justify_content": null,
      "justify_items": null,
      "left": null,
      "margin": null,
      "max_height": null,
      "max_width": null,
      "min_height": null,
      "min_width": null,
      "object_fit": null,
      "object_position": null,
      "order": null,
      "overflow": null,
      "overflow_x": null,
      "overflow_y": null,
      "padding": null,
      "right": null,
      "top": null,
      "visibility": null,
      "width": null
     }
    },
    "b1cba9baa031448c90bb7077fc6be677": {
     "model_module": "@jupyter-widgets/controls",
     "model_module_version": "1.5.0",
     "model_name": "FloatProgressModel",
     "state": {
      "_dom_classes": [],
      "_model_module": "@jupyter-widgets/controls",
      "_model_module_version": "1.5.0",
      "_model_name": "FloatProgressModel",
      "_view_count": null,
      "_view_module": "@jupyter-widgets/controls",
      "_view_module_version": "1.5.0",
      "_view_name": "ProgressView",
      "bar_style": "success",
      "description": "",
      "description_tooltip": null,
      "layout": "IPY_MODEL_bc6c7abb72eb45f4b23bde1331c86322",
      "max": 1776048343,
      "min": 0,
      "orientation": "horizontal",
      "style": "IPY_MODEL_6fa25d27b0294de18603f9e28358be62",
      "value": 1776048343
     }
    },
    "b33f9fa164144cd59c7f698579ba28f0": {
     "model_module": "@jupyter-widgets/controls",
     "model_module_version": "1.5.0",
     "model_name": "HTMLModel",
     "state": {
      "_dom_classes": [],
      "_model_module": "@jupyter-widgets/controls",
      "_model_module_version": "1.5.0",
      "_model_name": "HTMLModel",
      "_view_count": null,
      "_view_module": "@jupyter-widgets/controls",
      "_view_module_version": "1.5.0",
      "_view_name": "HTMLView",
      "description": "",
      "description_tooltip": null,
      "layout": "IPY_MODEL_12972a7bdb564f219211c5e5ed29fc99",
      "placeholder": "​",
      "style": "IPY_MODEL_2df81f8805a34f10bd4ca40a064bfefe",
      "value": "100%"
     }
    },
    "b5907830dddc4faa94926fccf61f6557": {
     "model_module": "@jupyter-widgets/base",
     "model_module_version": "1.2.0",
     "model_name": "LayoutModel",
     "state": {
      "_model_module": "@jupyter-widgets/base",
      "_model_module_version": "1.2.0",
      "_model_name": "LayoutModel",
      "_view_count": null,
      "_view_module": "@jupyter-widgets/base",
      "_view_module_version": "1.2.0",
      "_view_name": "LayoutView",
      "align_content": null,
      "align_items": null,
      "align_self": null,
      "border": null,
      "bottom": null,
      "display": null,
      "flex": null,
      "flex_flow": null,
      "grid_area": null,
      "grid_auto_columns": null,
      "grid_auto_flow": null,
      "grid_auto_rows": null,
      "grid_column": null,
      "grid_gap": null,
      "grid_row": null,
      "grid_template_areas": null,
      "grid_template_columns": null,
      "grid_template_rows": null,
      "height": null,
      "justify_content": null,
      "justify_items": null,
      "left": null,
      "margin": null,
      "max_height": null,
      "max_width": null,
      "min_height": null,
      "min_width": null,
      "object_fit": null,
      "object_position": null,
      "order": null,
      "overflow": null,
      "overflow_x": null,
      "overflow_y": null,
      "padding": null,
      "right": null,
      "top": null,
      "visibility": null,
      "width": null
     }
    },
    "b8b95c4ec6b3427fb9a924e3c0ec842c": {
     "model_module": "@jupyter-widgets/base",
     "model_module_version": "1.2.0",
     "model_name": "LayoutModel",
     "state": {
      "_model_module": "@jupyter-widgets/base",
      "_model_module_version": "1.2.0",
      "_model_name": "LayoutModel",
      "_view_count": null,
      "_view_module": "@jupyter-widgets/base",
      "_view_module_version": "1.2.0",
      "_view_name": "LayoutView",
      "align_content": null,
      "align_items": null,
      "align_self": null,
      "border": null,
      "bottom": null,
      "display": null,
      "flex": null,
      "flex_flow": null,
      "grid_area": null,
      "grid_auto_columns": null,
      "grid_auto_flow": null,
      "grid_auto_rows": null,
      "grid_column": null,
      "grid_gap": null,
      "grid_row": null,
      "grid_template_areas": null,
      "grid_template_columns": null,
      "grid_template_rows": null,
      "height": null,
      "justify_content": null,
      "justify_items": null,
      "left": null,
      "margin": null,
      "max_height": null,
      "max_width": null,
      "min_height": null,
      "min_width": null,
      "object_fit": null,
      "object_position": null,
      "order": null,
      "overflow": null,
      "overflow_x": null,
      "overflow_y": null,
      "padding": null,
      "right": null,
      "top": null,
      "visibility": null,
      "width": null
     }
    },
    "bc56bbc4b0fa41c280374c4ea591320e": {
     "model_module": "@jupyter-widgets/controls",
     "model_module_version": "1.5.0",
     "model_name": "FloatProgressModel",
     "state": {
      "_dom_classes": [],
      "_model_module": "@jupyter-widgets/controls",
      "_model_module_version": "1.5.0",
      "_model_name": "FloatProgressModel",
      "_view_count": null,
      "_view_module": "@jupyter-widgets/controls",
      "_view_module_version": "1.5.0",
      "_view_name": "ProgressView",
      "bar_style": "success",
      "description": "",
      "description_tooltip": null,
      "layout": "IPY_MODEL_7f3d00a90d7c4172ac7b048260f2662f",
      "max": 1262868003,
      "min": 0,
      "orientation": "horizontal",
      "style": "IPY_MODEL_74a6a268019b489fb7eadf248b3640b6",
      "value": 1262868003
     }
    },
    "bc6c7abb72eb45f4b23bde1331c86322": {
     "model_module": "@jupyter-widgets/base",
     "model_module_version": "1.2.0",
     "model_name": "LayoutModel",
     "state": {
      "_model_module": "@jupyter-widgets/base",
      "_model_module_version": "1.2.0",
      "_model_name": "LayoutModel",
      "_view_count": null,
      "_view_module": "@jupyter-widgets/base",
      "_view_module_version": "1.2.0",
      "_view_name": "LayoutView",
      "align_content": null,
      "align_items": null,
      "align_self": null,
      "border": null,
      "bottom": null,
      "display": null,
      "flex": null,
      "flex_flow": null,
      "grid_area": null,
      "grid_auto_columns": null,
      "grid_auto_flow": null,
      "grid_auto_rows": null,
      "grid_column": null,
      "grid_gap": null,
      "grid_row": null,
      "grid_template_areas": null,
      "grid_template_columns": null,
      "grid_template_rows": null,
      "height": null,
      "justify_content": null,
      "justify_items": null,
      "left": null,
      "margin": null,
      "max_height": null,
      "max_width": null,
      "min_height": null,
      "min_width": null,
      "object_fit": null,
      "object_position": null,
      "order": null,
      "overflow": null,
      "overflow_x": null,
      "overflow_y": null,
      "padding": null,
      "right": null,
      "top": null,
      "visibility": null,
      "width": null
     }
    },
    "c3f5461a931c49c5be4df5c566049d8c": {
     "model_module": "@jupyter-widgets/base",
     "model_module_version": "1.2.0",
     "model_name": "LayoutModel",
     "state": {
      "_model_module": "@jupyter-widgets/base",
      "_model_module_version": "1.2.0",
      "_model_name": "LayoutModel",
      "_view_count": null,
      "_view_module": "@jupyter-widgets/base",
      "_view_module_version": "1.2.0",
      "_view_name": "LayoutView",
      "align_content": null,
      "align_items": null,
      "align_self": null,
      "border": null,
      "bottom": null,
      "display": null,
      "flex": null,
      "flex_flow": null,
      "grid_area": null,
      "grid_auto_columns": null,
      "grid_auto_flow": null,
      "grid_auto_rows": null,
      "grid_column": null,
      "grid_gap": null,
      "grid_row": null,
      "grid_template_areas": null,
      "grid_template_columns": null,
      "grid_template_rows": null,
      "height": null,
      "justify_content": null,
      "justify_items": null,
      "left": null,
      "margin": null,
      "max_height": null,
      "max_width": null,
      "min_height": null,
      "min_width": null,
      "object_fit": null,
      "object_position": null,
      "order": null,
      "overflow": null,
      "overflow_x": null,
      "overflow_y": null,
      "padding": null,
      "right": null,
      "top": null,
      "visibility": null,
      "width": null
     }
    },
    "c5aec8d37b6444ec9cafe1154250fd4f": {
     "model_module": "@jupyter-widgets/base",
     "model_module_version": "1.2.0",
     "model_name": "LayoutModel",
     "state": {
      "_model_module": "@jupyter-widgets/base",
      "_model_module_version": "1.2.0",
      "_model_name": "LayoutModel",
      "_view_count": null,
      "_view_module": "@jupyter-widgets/base",
      "_view_module_version": "1.2.0",
      "_view_name": "LayoutView",
      "align_content": null,
      "align_items": null,
      "align_self": null,
      "border": null,
      "bottom": null,
      "display": null,
      "flex": null,
      "flex_flow": null,
      "grid_area": null,
      "grid_auto_columns": null,
      "grid_auto_flow": null,
      "grid_auto_rows": null,
      "grid_column": null,
      "grid_gap": null,
      "grid_row": null,
      "grid_template_areas": null,
      "grid_template_columns": null,
      "grid_template_rows": null,
      "height": null,
      "justify_content": null,
      "justify_items": null,
      "left": null,
      "margin": null,
      "max_height": null,
      "max_width": null,
      "min_height": null,
      "min_width": null,
      "object_fit": null,
      "object_position": null,
      "order": null,
      "overflow": null,
      "overflow_x": null,
      "overflow_y": null,
      "padding": null,
      "right": null,
      "top": null,
      "visibility": null,
      "width": null
     }
    },
    "d4f5b92ac98947d8a6fb291b4a4a595d": {
     "model_module": "@jupyter-widgets/controls",
     "model_module_version": "1.5.0",
     "model_name": "HTMLModel",
     "state": {
      "_dom_classes": [],
      "_model_module": "@jupyter-widgets/controls",
      "_model_module_version": "1.5.0",
      "_model_name": "HTMLModel",
      "_view_count": null,
      "_view_module": "@jupyter-widgets/controls",
      "_view_module_version": "1.5.0",
      "_view_name": "HTMLView",
      "description": "",
      "description_tooltip": null,
      "layout": "IPY_MODEL_4599397dab714df6ae6e39c802da27c3",
      "placeholder": "​",
      "style": "IPY_MODEL_440b99d3a0944bffa2ab1866aef75298",
      "value": "<img src=\"data:image/gif;base64,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\" />"
     }
    },
    "eb92bd7cc7144b61ad7b2840810f7287": {
     "model_module": "@jupyter-widgets/controls",
     "model_module_version": "1.5.0",
     "model_name": "DescriptionStyleModel",
     "state": {
      "_model_module": "@jupyter-widgets/controls",
      "_model_module_version": "1.5.0",
      "_model_name": "DescriptionStyleModel",
      "_view_count": null,
      "_view_module": "@jupyter-widgets/base",
      "_view_module_version": "1.2.0",
      "_view_name": "StyleView",
      "description_width": ""
     }
    },
    "ecb99f3c4bb6469cb13a898746bc0994": {
     "model_module": "@jupyter-widgets/controls",
     "model_module_version": "1.5.0",
     "model_name": "HBoxModel",
     "state": {
      "_dom_classes": [],
      "_model_module": "@jupyter-widgets/controls",
      "_model_module_version": "1.5.0",
      "_model_name": "HBoxModel",
      "_view_count": null,
      "_view_module": "@jupyter-widgets/controls",
      "_view_module_version": "1.5.0",
      "_view_name": "HBoxView",
      "box_style": "",
      "children": [
       "IPY_MODEL_a3e343ddc58b4ddb8222b500045f25f0",
       "IPY_MODEL_084e8e867f0a4f6d8097c08676149403",
       "IPY_MODEL_8a11a493e0fb4892b8c6a1d3f5088a01"
      ],
      "layout": "IPY_MODEL_0633a81df3c5452480c2ec19543e9658"
     }
    },
    "fc3659104a7a4c0fb91d92ab0b46ac9b": {
     "model_module": "@jupyter-widgets/base",
     "model_module_version": "1.2.0",
     "model_name": "LayoutModel",
     "state": {
      "_model_module": "@jupyter-widgets/base",
      "_model_module_version": "1.2.0",
      "_model_name": "LayoutModel",
      "_view_count": null,
      "_view_module": "@jupyter-widgets/base",
      "_view_module_version": "1.2.0",
      "_view_name": "LayoutView",
      "align_content": null,
      "align_items": null,
      "align_self": null,
      "border": null,
      "bottom": null,
      "display": null,
      "flex": null,
      "flex_flow": null,
      "grid_area": null,
      "grid_auto_columns": null,
      "grid_auto_flow": null,
      "grid_auto_rows": null,
      "grid_column": null,
      "grid_gap": null,
      "grid_row": null,
      "grid_template_areas": null,
      "grid_template_columns": null,
      "grid_template_rows": null,
      "height": null,
      "justify_content": null,
      "justify_items": null,
      "left": null,
      "margin": null,
      "max_height": null,
      "max_width": null,
      "min_height": null,
      "min_width": null,
      "object_fit": null,
      "object_position": null,
      "order": null,
      "overflow": null,
      "overflow_x": null,
      "overflow_y": null,
      "padding": null,
      "right": null,
      "top": null,
      "visibility": null,
      "width": null
     }
    }
   }
  }
 },
 "nbformat": 4,
 "nbformat_minor": 1
}
